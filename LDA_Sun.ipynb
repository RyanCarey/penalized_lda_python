{
 "cells": [
  {
   "cell_type": "code",
   "execution_count": 4,
   "metadata": {
    "collapsed": false
   },
   "outputs": [],
   "source": [
    "%matplotlib inline\n",
    "import numpy as np\n",
    "import pandas as pd\n",
    "import scipy\n",
    "from sklearn.cross_validation import StratifiedKFold\n",
    "import matplotlib.pyplot as plt\n",
    "%run /home/ryan/ml/dm/lda_functions.py\n",
    "#from sklearn.lda import LDA #remove this later"
   ]
  },
  {
   "cell_type": "code",
   "execution_count": 5,
   "metadata": {
    "collapsed": false
   },
   "outputs": [],
   "source": [
    "dat = pd.read_csv('sun.csv',index_col=0)\n",
    "y = np.array(dat['label'])\n",
    "X = np.array(dat.ix[:,1:])\n",
    "names = dat.columns\n",
    "i_nan = np.where(X!=X) # correct a single nan value\n",
    "X[i_nan] = np.nanmean(X[:,i_nan[1]])"
   ]
  },
  {
   "cell_type": "code",
   "execution_count": 6,
   "metadata": {
    "collapsed": true
   },
   "outputs": [],
   "source": [
    "folds = pd.read_csv('/home/ryan/ml/dm/folds.csv')\n",
    "folds = np.array(folds)\n",
    "folds\n",
    "n_cv = 5\n",
    "i_tr = folds.any(axis=1)\n",
    "folds = [(~row,row) for row in folds[i_tr].T[:n_cv]]"
   ]
  },
  {
   "cell_type": "code",
   "execution_count": 122,
   "metadata": {
    "collapsed": false
   },
   "outputs": [],
   "source": [
    "def penalized_lda_cv(X,y,regs=None, K=None, n_folds=6, folds=None):\n",
    "    if folds is None:\n",
    "        folds = StratifiedKFold(y,n_folds)\n",
    "    if y.dtype != int:\n",
    "        raise ValueError('y must be an array of integers')\n",
    "    if regs is None:\n",
    "        regs = np.logspace(.1,10,5)\n",
    "        \n",
    "    # if only one K value needs to be used\n",
    "    if K is not None or len(set(y))==2:\n",
    "        if len(set(y))==2:\n",
    "            K = 1\n",
    "        err = np.zeros((len(folds),len(regs)))\n",
    "        nonzero_betas = np.zeros((len(folds),len(regs)))\n",
    "        \n",
    "        for (i_fold, (tr,val)) in enumerate(folds):\n",
    "            print('fold',i_fold)\n",
    "            Xtr = X[tr,:]\n",
    "            ytr = y[tr]\n",
    "            Xval = X[val,:]\n",
    "            yval = y[val]\n",
    "            \n",
    "            # scale data using mean and within-class standard deviation from training set\n",
    "            wcsds = within_class_sds(Xtr,ytr)\n",
    "            if 0 in wcsds:\n",
    "                raise ValueError('Some features have 0 within-class standard deviation')\n",
    "            else:\n",
    "                means = Xtr.mean(axis=0)\n",
    "                Xtr = (Xtr - means) / wcsds\n",
    "                Xval = (Xval - means) / wcsds\n",
    "            \n",
    "            for (i_reg, reg) in enumerate(regs):\n",
    "                print('lambda',reg)\n",
    "                discrim = penalized_lda_fit(Xtr,ytr,reg,K=K,standardized=True)[1]\n",
    "                y_pred = lda_predict(Xtr,ytr,Xval,discrim,K)\n",
    "                print('predicted y:')\n",
    "                print(y_pred)\n",
    "                err[i_fold,i_reg] = (y_pred!=yval).sum()\n",
    "                nonzero_betas[i_fold,i_reg] = (discrim!=0).any(axis=1).sum(axis=0)\n",
    "        err_mean = err.mean(axis=0)\n",
    "        nonzero_mean = nonzero_betas.mean(axis=0)\n",
    "        reg_best = regs[err_mean.argmin()]\n",
    "        return(err_mean, nonzero_mean, reg_best, K,nonzero_betas,err)\n",
    "    \n",
    "    # if it is necessary to cross-validate over K values\n",
    "    else:\n",
    "        Ks = [i for i in range(1,len(set(y)))]\n",
    "        err = np.zeros((len(folds),len(regs),len(Ks)))\n",
    "        nonzero_betas = np.zeros((len(folds),len(regs),len(Ks)))\n",
    "        for (i_fold, (tr,val)) in enumerate(folds)\n",
    "            print('fold',i_fold)\n",
    "            Xtr = X[tr,:]\n",
    "            ytr = y[tr]\n",
    "            Xval = X[val,:]\n",
    "            yval = y[val]\n",
    "            \n",
    "            # scale data using mean and within-class standard deviation from training set\n",
    "            wcsds = within_class_sds(Xtr,ytr)\n",
    "            if 0 in wcsds:\n",
    "                raise ValueError('Some features have 0 within-class standard deviation')\n",
    "            else:\n",
    "                means = Xtr.mean(axis=0)\n",
    "                Xtr = (Xtr - means) / wcsds\n",
    "                Xval = (Xval - means) / wcsds\n",
    "            \n",
    "            for (i_reg, reg) in enumerate(regs):\n",
    "                print('lambda',reg)\n",
    "                discrim = penalized_lda_fit(Xtr,ytr,reg,K=max(Ks),\n",
    "                                                standardized=True)[1]\n",
    "                for i_k,k in enumerate(Ks):\n",
    "                    ypred = lda_predict(Xtr,ytr,Xval,discrim,k)\n",
    "                    print('predicted y:')\n",
    "                    print(ypred)\n",
    "                    err[i_fold,i_reg,i_k] = (ypred!=yval).sum()\n",
    "                    nonzero_betas[i_fold,i_reg,i_k] = discrim[:,:k].any(axis=1).sum(axis=0)\n",
    "    \n",
    "        err_mean = err.mean(axis=0)\n",
    "        nonzero_mean = nonzero_betas.mean(axis=0)\n",
    "        i_best_params = np.unravel_index(err_mean.argmin(),err_mean.shape)\n",
    "        reg_best = regs[i_best_params[0]]\n",
    "        K_best = Ks[i_best_params[1]]\n",
    "        return(err_mean, nonzero_mean, reg_best, K_best,nonzero_betas,err)"
   ]
  },
  {
   "cell_type": "code",
   "execution_count": 11,
   "metadata": {
    "collapsed": false
   },
   "outputs": [],
   "source": [
    "class PenalizedLDACV:\n",
    "    def __init__(self, regs = None, Ks = None, max_iter = 20):\n",
    "        self.regs = regs\n",
    "        self.Ks = Ks\n",
    "        self.max_iter = max_iter\n",
    "        self.K_selected_ = None\n",
    "        self.reg_selected_ = None\n",
    "    def fit(self,X,y,standardized=False,n_folds=5,folds=None):\n",
    "        if folds is None:\n",
    "            folds = StratifiedKFold(y,n_folds)\n",
    "        if y.dtype != int:\n",
    "            raise ValueError('y must be an array of integers')\n",
    "        if self.regs is None:\n",
    "            self.regs = np.logspace(.1,10,5)\n",
    "        if self.Ks is not None and (np.array(self.Ks) >= len(set(y))).any():\n",
    "            raise ValueError('K must be less than the number of unique classes')\n",
    "        \n",
    "        # if only one K value needs to be used\n",
    "        if len(set(y))==2:\n",
    "            self.Ks = 1\n",
    "            self.K_selected_ = 1\n",
    "        if self.Ks is not None:\n",
    "            err = np.zeros((len(folds),len(self.regs)))\n",
    "            self.nonzero_betas_ = np.zeros((len(folds),len(self.regs)))\n",
    "\n",
    "            for (i_fold, (tr,val)) in enumerate(folds):\n",
    "                print('fold',i_fold)\n",
    "                Xtr = X[tr,:]\n",
    "                ytr = y[tr]\n",
    "                Xval = X[val,:]\n",
    "                yval = y[val]\n",
    "\n",
    "                # compute mean and within-class SD from training fold, then scale data\n",
    "                self.wcsds_ = within_class_sds(Xtr,ytr)\n",
    "                \n",
    "                if 0 in self.wcsds_:\n",
    "                    raise ValueError('Some features have 0 within-class standard deviation')\n",
    "                else:\n",
    "                    self.means_ = Xtr.mean(axis=0)\n",
    "                    Xtr = (Xtr - self.means_) / self.wcsds_\n",
    "                    Xval = (Xval - self.means_) / self.wcsds_\n",
    "                    \n",
    "                # the clf classifier is trained with each regularisation parameter\n",
    "                clf = PenalizedLDA(K = self.K_selected_)\n",
    "                for (i_reg, reg) in enumerate(self.regs):\n",
    "                    print('lambda',reg)\n",
    "                    clf.reg = reg\n",
    "                    clf.fit(Xtr,ytr,standardized=True)\n",
    "                    self.nonzero_betas_[i_fold,i_reg] = (clf.discrim_[:,:self.K_selected_]\n",
    "                                                        ).any(axis=1).sum(axis=0)\n",
    "                    err[i_fold,i_reg] = clf.error(Xval,yval,standardized=True)\n",
    "                    \n",
    "            self.err_mean_ = err.mean(axis=0)\n",
    "            self.nonzero_mean_ = self.nonzero_betas_.mean(axis=0)\n",
    "            self.reg_selected_ = self.regs[self.err_mean_.argmin()]\n",
    "            \n",
    "        # if it is necessary to cross-validate over K values\n",
    "        else:\n",
    "            self.Ks = [i for i in range(1,len(set(y)))]\n",
    "            err = np.zeros((len(folds),len(self.regs),len(self.Ks)))\n",
    "            self.nonzero_betas_ = np.zeros((len(folds),len(self.regs),len(self.Ks)))\n",
    "            for (i_fold, (tr,val)) in enumerate(folds):\n",
    "                print('fold',i_fold)\n",
    "                Xtr = X[tr,:]\n",
    "                ytr = y[tr]\n",
    "                Xval = X[val,:]\n",
    "                yval = y[val]\n",
    "\n",
    "                # scale X using mean and within-class standard deviation from training set\n",
    "                self.wcsds_ = within_class_sds(Xtr,ytr)\n",
    "                if 0 in self.wcsds_:\n",
    "                    raise ValueError('Some features have 0 within-class standard deviation')\n",
    "                else:\n",
    "                    self.means_ = Xtr.mean(axis=0)\n",
    "                    Xtr = (Xtr - self.means_) / self.wcsds_\n",
    "                    Xval = (Xval - self.means_) / self.wcsds_\n",
    "                \n",
    "                # the clf classifier is trained with each combination of hyperparameters\n",
    "                clf = PenalizedLDA(K=max(self.Ks))\n",
    "                for (i_reg, reg) in enumerate(self.regs):\n",
    "                    print('lambda',reg)\n",
    "                    clf.reg = reg\n",
    "                    clf.fit(Xtr,ytr,standardized=True)\n",
    "                    for i_k,k in enumerate(self.Ks):\n",
    "                        err[i_fold,i_reg,i_k] = clf.error(Xval,yval,k=k,standardized=True)\n",
    "                        self.nonzero_betas_[i_fold,i_reg,i_k] = (clf.discrim_[:,:k]\n",
    "                                                                ).any(axis=1).sum(axis=0)\n",
    "\n",
    "            self.err_mean_ = err.mean(axis=0)\n",
    "            self.nonzero_mean_ = self.nonzero_betas_.mean(axis=0)\n",
    "            i_best_params = np.unravel_index(self.err_mean_.argmin(),self.err_mean_.shape)\n",
    "            self.reg_selected_ = self.regs[i_best_params[0]]\n",
    "            self.K_selected_ = self.Ks[i_best_params[1]]\n",
    "            \n",
    "        # refit model with selected parameters\n",
    "        selected_model = PenalizedLDA(reg=self.reg_selected_,K=self.K_selected_)\n",
    "        selected_model.fit(X,y)\n",
    "        self.discrim_selected_ = selected_model.discrim_\n",
    "        self.X_proj_ = selected_model.Xtr_proj_\n",
    "        self.y_ = y\n",
    "        return(self)\n",
    "\n",
    "    def predict(self,Xte,standardized=False,k=None):\n",
    "        if not standardized:\n",
    "            #set mean to zero and within-class variance to one\n",
    "            Xte = (Xte-self.means_)/self.wcsds_\n",
    "\n",
    "        #project to dimensionality k using discriminant\n",
    "        Xte_projected = Xte.dot(self.discrim_selected_[:,:k])\n",
    "\n",
    "        #predict class as nearest centroid in projected space\n",
    "        y_predicted = classify(self.X_proj_[:,:k],self.y_,Xte_projected)\n",
    "\n",
    "        return(y_predicted)\n",
    "    def error(self,Xte,yte,k=None, standardized=False):\n",
    "        if yte.dtype != int:\n",
    "            raise ValueError('yte must be an array of integers')\n",
    "        err = (self.predict(Xte,k=k,standardized=standardized)!=yte).sum()\n",
    "        return(err)\n",
    "    def __repr__(self):\n",
    "        return(('Penalized LDA(regs={regs}, Ks={Ks}, max_iter={max_iter}, self.K_selected_='+\n",
    "               '{K_selected_}, self.reg_selected_={reg_selected_})').format(\n",
    "                regs=self.regs, Ks=self.Ks, max_iter=self.max_iter, \n",
    "                K_selected_=self.K_selected_, reg_selected_=self.reg_selected_))"
   ]
  },
  {
   "cell_type": "code",
   "execution_count": 12,
   "metadata": {
    "collapsed": false,
    "scrolled": false
   },
   "outputs": [
    {
     "name": "stdout",
     "output_type": "stream",
     "text": [
      "fold 0\n",
      "lambda 0.006\n",
      "lambda 0.007\n",
      "lambda 0.008\n",
      "fold 1\n",
      "lambda 0.006\n",
      "lambda 0.007\n",
      "lambda 0.008\n",
      "fold 2\n",
      "lambda 0.006\n",
      "lambda 0.007\n",
      "lambda 0.008\n",
      "fold 3\n",
      "lambda 0.006\n",
      "lambda 0.007\n",
      "lambda 0.008\n",
      "fold 4\n",
      "lambda 0.006\n",
      "lambda 0.007\n",
      "lambda 0.008\n"
     ]
    },
    {
     "data": {
      "text/plain": [
       "Penalized LDA(regs=[0.006, 0.007, 0.008], Ks=2, max_iter=20, self.K_selected_=None, self.reg_selected_=0.007)"
      ]
     },
     "execution_count": 12,
     "metadata": {},
     "output_type": "execute_result"
    }
   ],
   "source": [
    "%run /home/ryan/ml/dm/lda_functions.py\n",
    "ldacv = PenalizedLDACV(regs=[.006,.007,.008],Ks=2)\n",
    "ldacv.fit(X[i_tr],factor_to_integer(y)[i_tr],folds=folds)\n",
    "ldacv.predict(X[~i_tr])\n",
    "ldacv"
   ]
  },
  {
   "cell_type": "code",
   "execution_count": 13,
   "metadata": {
    "collapsed": false
   },
   "outputs": [
    {
     "name": "stdout",
     "output_type": "stream",
     "text": [
      "[ 6.4  6.2  6.2] \n",
      " [ 41382.8  34257.   23620.2]\n"
     ]
    }
   ],
   "source": [
    "print(ldacv.err_mean_,'\\n', ldacv.nonzero_mean_)"
   ]
  },
  {
   "cell_type": "code",
   "execution_count": 18,
   "metadata": {
    "collapsed": false,
    "scrolled": false
   },
   "outputs": [
    {
     "name": "stdout",
     "output_type": "stream",
     "text": [
      "fold 0\n",
      "lambda 0.006\n",
      "lambda 0.007\n",
      "lambda 0.008\n",
      "fold 1\n",
      "lambda 0.006\n",
      "lambda 0.007\n",
      "lambda 0.008\n",
      "fold 2\n",
      "lambda 0.006\n",
      "lambda 0.007\n",
      "lambda 0.008\n",
      "fold 3\n",
      "lambda 0.006\n",
      "lambda 0.007\n",
      "lambda 0.008\n",
      "fold 4\n",
      "lambda 0.006\n",
      "lambda 0.007\n",
      "lambda 0.008\n"
     ]
    },
    {
     "data": {
      "text/plain": [
       "Penalized LDA(regs=[0.006, 0.007, 0.008], Ks=[1, 2, 3], max_iter=20, self.K_selected_=3, self.reg_selected_=0.007)"
      ]
     },
     "execution_count": 18,
     "metadata": {},
     "output_type": "execute_result"
    }
   ],
   "source": [
    "%run /home/ryan/ml/dm/lda_functions.py\n",
    "ldacv = PenalizedLDACV(regs=[.006,.007,.008])\n",
    "ldacv.fit(X[i_tr],factor_to_integer(y)[i_tr],folds=folds)\n",
    "ldacv.predict(X[~i_tr])\n",
    "ldacv"
   ]
  },
  {
   "cell_type": "code",
   "execution_count": 17,
   "metadata": {
    "collapsed": false
   },
   "outputs": [
    {
     "name": "stdout",
     "output_type": "stream",
     "text": [
      "[[ 8.4  7.2  6.4]\n",
      " [ 8.2  7.4  6.2]\n",
      " [ 8.4  7.4  6.2]] \n",
      " [[ 20170.8  32141.   41382.8]\n",
      " [ 15252.   25280.6  34257. ]\n",
      " [ 10054.2  17041.8  23620.2]]\n"
     ]
    }
   ],
   "source": [
    "print(ldacv.err_mean_,'\\n', ldacv.nonzero_mean_)"
   ]
  },
  {
   "cell_type": "code",
   "execution_count": 12,
   "metadata": {
    "collapsed": false
   },
   "outputs": [
    {
     "data": {
      "image/png": "[encoded data removed]",
      "text/plain": [
       "<matplotlib.figure.Figure at 0x7f4b90a8fef0>"
      ]
     },
     "metadata": {},
     "output_type": "display_data"
    }
   ],
   "source": [
    "lda.fit(X,factor_to_integer(y))\n",
    "plt.scatter(lda.Xtr_proj_[:,0],lda.Xtr_proj_[:,1],c=factor_to_integer(y),\n",
    "            cmap='rainbow',linewidths=0)\n",
    "plt.xlabel('1st discriminant vector')\n",
    "plt.ylabel('2nd discriminant vector')\n",
    "plt.show()"
   ]
  }
 ],
 "metadata": {
  "kernelspec": {
   "display_name": "Python 3",
   "language": "python",
   "name": "python3"
  },
  "language_info": {
   "codemirror_mode": {
    "name": "ipython",
    "version": 3
   },
   "file_extension": ".py",
   "mimetype": "text/x-python",
   "name": "python",
   "nbconvert_exporter": "python",
   "pygments_lexer": "ipython3",
   "version": "3.4.0"
  }
 },
 "nbformat": 4,
 "nbformat_minor": 0
}
